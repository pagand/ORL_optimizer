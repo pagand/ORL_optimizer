{
 "cells": [
  {
   "cell_type": "code",
   "execution_count": 2,
   "metadata": {},
   "outputs": [],
   "source": [
    "import pandas as pd\n",
    "from sklearn.preprocessing import PolynomialFeatures\n",
    "from sklearn.linear_model import LinearRegression\n",
    "from sklearn.pipeline import make_pipeline\n",
    "from sklearn.metrics import mean_squared_error\n",
    "from sklearn.preprocessing import MinMaxScaler\n",
    "import numpy as np\n",
    "import pickle\n"
   ]
  },
  {
   "cell_type": "code",
   "execution_count": 3,
   "metadata": {},
   "outputs": [
    {
     "data": {
      "text/html": [
       "<div>\n",
       "<style scoped>\n",
       "    .dataframe tbody tr th:only-of-type {\n",
       "        vertical-align: middle;\n",
       "    }\n",
       "\n",
       "    .dataframe tbody tr th {\n",
       "        vertical-align: top;\n",
       "    }\n",
       "\n",
       "    .dataframe thead th {\n",
       "        text-align: right;\n",
       "    }\n",
       "</style>\n",
       "<table border=\"1\" class=\"dataframe\">\n",
       "  <thead>\n",
       "    <tr style=\"text-align: right;\">\n",
       "      <th></th>\n",
       "      <th>Dati</th>\n",
       "      <th>Time</th>\n",
       "      <th>DEPTH</th>\n",
       "      <th>ENGINE_1_FLOWTEMPA</th>\n",
       "      <th>ENGINE_1_FUEL_CONSUMPTION</th>\n",
       "      <th>ENGINE_2_FLOWTEMPA</th>\n",
       "      <th>ENGINE_2_FUEL_CONSUMPTION</th>\n",
       "      <th>HEADING</th>\n",
       "      <th>LATITUDE</th>\n",
       "      <th>LONGITUDE</th>\n",
       "      <th>...</th>\n",
       "      <th>snowfall</th>\n",
       "      <th>weathercode</th>\n",
       "      <th>is_weekday</th>\n",
       "      <th>wind_force</th>\n",
       "      <th>wind_direc</th>\n",
       "      <th>effective_wind_factor</th>\n",
       "      <th>effective_wind</th>\n",
       "      <th>resist_ratio1</th>\n",
       "      <th>resist_ratio2</th>\n",
       "      <th>adversarial</th>\n",
       "    </tr>\n",
       "  </thead>\n",
       "  <tbody>\n",
       "    <tr>\n",
       "      <th>0</th>\n",
       "      <td>190830_022700</td>\n",
       "      <td>147.0</td>\n",
       "      <td>0.0049</td>\n",
       "      <td>25.6000</td>\n",
       "      <td>332.9910</td>\n",
       "      <td>25.6000</td>\n",
       "      <td>334.3725</td>\n",
       "      <td>176.4</td>\n",
       "      <td>49.1936</td>\n",
       "      <td>-123.9554</td>\n",
       "      <td>...</td>\n",
       "      <td>0.0</td>\n",
       "      <td>1</td>\n",
       "      <td>True</td>\n",
       "      <td>20.241001</td>\n",
       "      <td>2.0</td>\n",
       "      <td>0.954240</td>\n",
       "      <td>5.346895</td>\n",
       "      <td>0.002412</td>\n",
       "      <td>0.0</td>\n",
       "      <td>0</td>\n",
       "    </tr>\n",
       "    <tr>\n",
       "      <th>1</th>\n",
       "      <td>190830_022800</td>\n",
       "      <td>148.0</td>\n",
       "      <td>0.0037</td>\n",
       "      <td>25.6083</td>\n",
       "      <td>401.2981</td>\n",
       "      <td>25.6000</td>\n",
       "      <td>383.3828</td>\n",
       "      <td>179.7</td>\n",
       "      <td>49.1943</td>\n",
       "      <td>-123.9554</td>\n",
       "      <td>...</td>\n",
       "      <td>0.0</td>\n",
       "      <td>1</td>\n",
       "      <td>True</td>\n",
       "      <td>96.012562</td>\n",
       "      <td>1.0</td>\n",
       "      <td>0.178802</td>\n",
       "      <td>0.641006</td>\n",
       "      <td>0.001969</td>\n",
       "      <td>0.0</td>\n",
       "      <td>0</td>\n",
       "    </tr>\n",
       "    <tr>\n",
       "      <th>2</th>\n",
       "      <td>190830_022900</td>\n",
       "      <td>149.0</td>\n",
       "      <td>0.0158</td>\n",
       "      <td>25.7000</td>\n",
       "      <td>423.8546</td>\n",
       "      <td>25.6417</td>\n",
       "      <td>424.2150</td>\n",
       "      <td>186.9</td>\n",
       "      <td>49.1965</td>\n",
       "      <td>-123.9555</td>\n",
       "      <td>...</td>\n",
       "      <td>0.0</td>\n",
       "      <td>1</td>\n",
       "      <td>True</td>\n",
       "      <td>278.439282</td>\n",
       "      <td>0.0</td>\n",
       "      <td>-0.969872</td>\n",
       "      <td>-5.510522</td>\n",
       "      <td>0.001711</td>\n",
       "      <td>0.0</td>\n",
       "      <td>0</td>\n",
       "    </tr>\n",
       "    <tr>\n",
       "      <th>3</th>\n",
       "      <td>190830_023000</td>\n",
       "      <td>150.0</td>\n",
       "      <td>0.0206</td>\n",
       "      <td>25.7867</td>\n",
       "      <td>561.3356</td>\n",
       "      <td>25.7100</td>\n",
       "      <td>536.0195</td>\n",
       "      <td>215.1</td>\n",
       "      <td>49.1994</td>\n",
       "      <td>-123.9543</td>\n",
       "      <td>...</td>\n",
       "      <td>0.0</td>\n",
       "      <td>1</td>\n",
       "      <td>True</td>\n",
       "      <td>445.691210</td>\n",
       "      <td>0.0</td>\n",
       "      <td>-0.992757</td>\n",
       "      <td>-7.372911</td>\n",
       "      <td>0.001434</td>\n",
       "      <td>0.0</td>\n",
       "      <td>0</td>\n",
       "    </tr>\n",
       "    <tr>\n",
       "      <th>4</th>\n",
       "      <td>190830_023100</td>\n",
       "      <td>151.0</td>\n",
       "      <td>0.0215</td>\n",
       "      <td>25.9300</td>\n",
       "      <td>648.2187</td>\n",
       "      <td>25.8250</td>\n",
       "      <td>615.8354</td>\n",
       "      <td>232.2</td>\n",
       "      <td>49.2024</td>\n",
       "      <td>-123.9504</td>\n",
       "      <td>...</td>\n",
       "      <td>0.0</td>\n",
       "      <td>1</td>\n",
       "      <td>True</td>\n",
       "      <td>1002.317608</td>\n",
       "      <td>0.0</td>\n",
       "      <td>-0.949972</td>\n",
       "      <td>-14.854428</td>\n",
       "      <td>0.001337</td>\n",
       "      <td>0.0</td>\n",
       "      <td>0</td>\n",
       "    </tr>\n",
       "  </tbody>\n",
       "</table>\n",
       "<p>5 rows × 47 columns</p>\n",
       "</div>"
      ],
      "text/plain": [
       "            Dati   Time   DEPTH  ENGINE_1_FLOWTEMPA  \\\n",
       "0  190830_022700  147.0  0.0049             25.6000   \n",
       "1  190830_022800  148.0  0.0037             25.6083   \n",
       "2  190830_022900  149.0  0.0158             25.7000   \n",
       "3  190830_023000  150.0  0.0206             25.7867   \n",
       "4  190830_023100  151.0  0.0215             25.9300   \n",
       "\n",
       "   ENGINE_1_FUEL_CONSUMPTION  ENGINE_2_FLOWTEMPA  ENGINE_2_FUEL_CONSUMPTION  \\\n",
       "0                   332.9910             25.6000                   334.3725   \n",
       "1                   401.2981             25.6000                   383.3828   \n",
       "2                   423.8546             25.6417                   424.2150   \n",
       "3                   561.3356             25.7100                   536.0195   \n",
       "4                   648.2187             25.8250                   615.8354   \n",
       "\n",
       "   HEADING  LATITUDE  LONGITUDE  ...  snowfall  weathercode  is_weekday  \\\n",
       "0    176.4   49.1936  -123.9554  ...       0.0            1        True   \n",
       "1    179.7   49.1943  -123.9554  ...       0.0            1        True   \n",
       "2    186.9   49.1965  -123.9555  ...       0.0            1        True   \n",
       "3    215.1   49.1994  -123.9543  ...       0.0            1        True   \n",
       "4    232.2   49.2024  -123.9504  ...       0.0            1        True   \n",
       "\n",
       "    wind_force  wind_direc  effective_wind_factor  effective_wind  \\\n",
       "0    20.241001         2.0               0.954240        5.346895   \n",
       "1    96.012562         1.0               0.178802        0.641006   \n",
       "2   278.439282         0.0              -0.969872       -5.510522   \n",
       "3   445.691210         0.0              -0.992757       -7.372911   \n",
       "4  1002.317608         0.0              -0.949972      -14.854428   \n",
       "\n",
       "   resist_ratio1  resist_ratio2  adversarial  \n",
       "0       0.002412            0.0            0  \n",
       "1       0.001969            0.0            0  \n",
       "2       0.001711            0.0            0  \n",
       "3       0.001434            0.0            0  \n",
       "4       0.001337            0.0            0  \n",
       "\n",
       "[5 rows x 47 columns]"
      ]
     },
     "execution_count": 3,
     "metadata": {},
     "output_type": "execute_result"
    }
   ],
   "source": [
    "data = pd.read_csv('../data/VesselSimulator/feature1.csv')\n",
    "data.head()"
   ]
  },
  {
   "cell_type": "code",
   "execution_count": 4,
   "metadata": {},
   "outputs": [
    {
     "data": {
      "text/plain": [
       "Index(['Dati', 'Time', 'DEPTH', 'ENGINE_1_FLOWTEMPA',\n",
       "       'ENGINE_1_FUEL_CONSUMPTION', 'ENGINE_2_FLOWTEMPA',\n",
       "       'ENGINE_2_FUEL_CONSUMPTION', 'HEADING', 'LATITUDE', 'LONGITUDE',\n",
       "       'PITCH_1', 'PITCH_2', 'POWER_1', 'POWER_2', 'SOG', 'SOG_SPEEDLOG_LONG',\n",
       "       'SOG_SPEEDLOG_TRANS', 'SPEED_1', 'SPEED_2', 'STW', 'THRUST_1',\n",
       "       'THRUST_2', 'TORQUE_1', 'TORQUE_2', 'WIND_ANGLE', 'WIND_SPEED',\n",
       "       'WIND_ANGLE_TRUE', 'WIND_SPEED_TRUE', 'trip_id', 'MODE', 'datetime',\n",
       "       'season', 'weekday', 'current', 'direction', 'pressure', 'rain',\n",
       "       'snowfall', 'weathercode', 'is_weekday', 'wind_force', 'wind_direc',\n",
       "       'effective_wind_factor', 'effective_wind', 'resist_ratio1',\n",
       "       'resist_ratio2', 'adversarial'],\n",
       "      dtype='object')"
      ]
     },
     "execution_count": 4,
     "metadata": {},
     "output_type": "execute_result"
    }
   ],
   "source": [
    "data.columns"
   ]
  },
  {
   "cell_type": "code",
   "execution_count": 5,
   "metadata": {},
   "outputs": [
    {
     "name": "stdout",
     "output_type": "stream",
     "text": [
      "49.3788352862298 49.19541486727186 -123.27131442779599 -123.9551366316478\n"
     ]
    }
   ],
   "source": [
    "# remove Time, Depth column\n",
    "X = data.drop(['Time', 'DEPTH', 'Dati', 'TORQUE_1', 'TORQUE_2', 'THRUST_2', 'THRUST_1', 'SOG_SPEEDLOG_LONG', 'SOG_SPEEDLOG_TRANS'], axis=1)\n",
    "\n",
    "# create a new column as ENGINE_1_FUEL_CONSUMPTION + ENGINE_2_FUEL_CONSUMPTION\n",
    "X['SFC'] = X['ENGINE_1_FUEL_CONSUMPTION'] + X['ENGINE_2_FUEL_CONSUMPTION']\n",
    "X['SPEED'] = X['SPEED_1'] + X['SPEED_2']\n",
    "X['ENGINE_FLOWTEMPA'] = X['ENGINE_1_FLOWTEMPA'] + X['ENGINE_2_FLOWTEMPA']\n",
    "X['PITCH'] = X['PITCH_1'] + X['PITCH_2']\n",
    "X['POWER'] = X['POWER_1'] + X['POWER_2']\n",
    "X['resist_ratio'] = X['resist_ratio1'] + X['resist_ratio2']\n",
    "\n",
    "\n",
    "# filter only adverserial is 0\n",
    "X = X[X['adversarial'] == 0]\n",
    "\n",
    "X = X.drop(['ENGINE_1_FUEL_CONSUMPTION','ENGINE_2_FUEL_CONSUMPTION', 'adversarial', 'wind_direc', 'SPEED_1', 'SPEED_1',\n",
    "            'ENGINE_1_FLOWTEMPA', 'ENGINE_2_FLOWTEMPA', 'PITCH_1', 'PITCH_2',\n",
    "            'POWER_1', 'POWER_2', 'resist_ratio1', 'resist_ratio2'], axis=1)\n",
    "\n",
    "# convert to datetime\n",
    "X['datetime'] = pd.to_datetime(X['datetime'])\n",
    "\n",
    "\n",
    "# convert direction to 1 if N-H other 0\n",
    "X['direction'] = X['direction'].apply(lambda x: 1 if x == 'N-H' else 0)\n",
    "\n",
    "\n",
    "# for each trip_id group, find the first 3 rows and last 3 rows of LATITUDE and LONGITUDE and return the mean for each group\n",
    "X['LATITUDE_start'] = X.groupby('trip_id')['LATITUDE'].transform(lambda x: x.iloc[:3].mean() )\n",
    "X['LATITUDE_end'] = X.groupby('trip_id')['LATITUDE'].transform(lambda x: x.iloc[-3:].mean())\n",
    "X['LONGITUDE_start'] = X.groupby('trip_id')['LONGITUDE'].transform(lambda x: x.iloc[:3].mean() )\n",
    "X['LONGITUDE_end'] = X.groupby('trip_id')['LONGITUDE'].transform(lambda x: x.iloc[-3:].mean())\n",
    "\n",
    "# group by direction\n",
    "LATITUDE_goal_1 = X.groupby('direction')['LATITUDE_start'].mean() \n",
    "LATITUDE_goal_2 = X.groupby('direction')['LATITUDE_end'].mean() \n",
    "\n",
    "LONGITUDE_goal_1 = X.groupby('direction')['LONGITUDE_start'].mean()\n",
    "LONGITUDE_goal_2 = X.groupby('direction')['LONGITUDE_end'].mean()\n",
    "\n",
    "LATITUDE_goal_0 = (LATITUDE_goal_1.iloc[0] + LATITUDE_goal_2.iloc[1])/2\n",
    "LATITUDE_goal_1 = (LATITUDE_goal_1.iloc[1] + LATITUDE_goal_2.iloc[0])/2\n",
    "LONGITUDE_goal_0 = (LONGITUDE_goal_1.iloc[0] + LONGITUDE_goal_2.iloc[1])/2\n",
    "LONGITUDE_goal_1 = (LONGITUDE_goal_1.iloc[1] + LONGITUDE_goal_2.iloc[0])/2\n",
    "\n",
    "X.drop(['LATITUDE_start', 'LATITUDE_end', 'LONGITUDE_start', 'LONGITUDE_end'], axis=1, inplace=True)\n",
    "\n",
    "print(LATITUDE_goal_0, LATITUDE_goal_1, LONGITUDE_goal_0, LONGITUDE_goal_1)\n",
    "\n",
    "X.rename(columns={'LATITUDE': 'LAT', 'LONGITUDE': 'LON'}, inplace=True)\n",
    "\n",
    "\n"
   ]
  },
  {
   "cell_type": "code",
   "execution_count": 6,
   "metadata": {},
   "outputs": [
    {
     "data": {
      "text/plain": [
       "<matplotlib.collections.PathCollection at 0x7f6158364690>"
      ]
     },
     "execution_count": 6,
     "metadata": {},
     "output_type": "execute_result"
    },
    {
     "data": {
      "image/png": "[encoded data removed]",
      "text/plain": [
       "<Figure size 640x480 with 1 Axes>"
      ]
     },
     "metadata": {},
     "output_type": "display_data"
    }
   ],
   "source": [
    "# plot the goal points and some datapoint in a scatter plot\n",
    "import matplotlib.pyplot as plt\n",
    "ax = plt.gca()\n",
    "ax.scatter(X['LAT'][:1000], X['LON'][:1000], c=X['direction'][:1000])\n",
    "ax.scatter(X[X['direction']==1]['LAT'][:5], X[X['direction']==1]['LON'][:5], c='g')\n",
    "ax.scatter([LATITUDE_goal_0,  ], [LONGITUDE_goal_0, ], c='r')"
   ]
  },
  {
   "cell_type": "code",
   "execution_count": 7,
   "metadata": {},
   "outputs": [],
   "source": [
    "# engineered \n",
    "\n",
    "# 1. features\n",
    "# compute eucleadian distance to the goal\n",
    "#  compute for direction 0 (X['direction']==0) which has LATITUDE_goal_1, LONGITUDE_goal_1\n",
    "# and for direction 1 (X['direction']==1) which has LATITUDE_goal_0, LONGITUDE_goal_0\n",
    "X['distance'] = np.sqrt((X[X['direction']==1]['LAT'] - LATITUDE_goal_0)**2 + (X[X['direction']==1]['LON'] - LONGITUDE_goal_0)**2)\n",
    "X['distance'] = X['distance'].fillna(np.sqrt((X[X['direction']==0]['LAT'] - LATITUDE_goal_1)**2 + (X[X['direction']==0]['LON'] - LONGITUDE_goal_1)**2))\n",
    "# compute time elapsed from the start using datetime colomn\n",
    "X['elapsed_time'] = X.groupby('trip_id')['datetime'].transform(lambda x: (x - x.iloc[0]).dt.total_seconds())\n",
    "# compute commuliative fuel consumption from the start\n",
    "X['cumulative_SFC'] = X.groupby('trip_id')['SFC'].transform(lambda x: x.cumsum())\n",
    "\n",
    "# create new column as start_trip and set it to True for the first elemet of trip_id that changes otherwise False\n",
    "X['start_trip'] = X['trip_id'] != X['trip_id'].shift(1)\n",
    "\n",
    "# previous output\n",
    "X[\"PSFC\"] = X['SFC'].shift(1)\n",
    "X[\"PSOG\"] = X['SPEED'].shift(1)\n",
    "X[\"PLAT\"] = X['LAT'].shift(1)\n",
    "X[\"PLON\"] = X['LON'].shift(1)\n",
    "\n",
    "# for the first element of each trip_id, repeat the first element\n",
    "X['PSFC'] = X.groupby('trip_id')['PSFC'].transform(lambda x: x.bfill())\n",
    "X['PSOG'] = X.groupby('trip_id')['PSOG'].transform(lambda x: x.bfill())\n",
    "X['PLAT'] = X.groupby('trip_id')['PLAT'].transform(lambda x: x.bfill())\n",
    "X['PLON'] = X.groupby('trip_id')['PLON'].transform(lambda x: x.bfill())\n",
    "\n",
    "\n",
    "# 2. output\n",
    "# compute estimated arrival time (EAT) as the minutes to reach the end of trip\n",
    "X['EAT'] = X.groupby('trip_id')['elapsed_time'].transform(lambda x: x.max() - x)\n",
    "# outputs 'SFC', 'SOG', 'LAT', 'LON',  of one-step, two-step, three-step ahead\n",
    "X['SFC_1'] = X.groupby('trip_id')['SFC'].shift(-1)\n",
    "X['SFC_2'] = X.groupby('trip_id')['SFC'].shift(-2)\n",
    "X['SFC_3'] = X.groupby('trip_id')['SFC'].shift(-3)\n",
    "X['SOG_1'] = X.groupby('trip_id')['SPEED'].shift(-1)\n",
    "X['SOG_2'] = X.groupby('trip_id')['SPEED'].shift(-2)\n",
    "X['SOG_3'] = X.groupby('trip_id')['SPEED'].shift(-3)\n",
    "X['LAT_1'] = X.groupby('trip_id')['LAT'].shift(-1)\n",
    "X['LAT_2'] = X.groupby('trip_id')['LAT'].shift(-2)\n",
    "X['LAT_3'] = X.groupby('trip_id')['LAT'].shift(-3)\n",
    "X['LON_1'] = X.groupby('trip_id')['LON'].shift(-1)\n",
    "X['LON_2'] = X.groupby('trip_id')['LON'].shift(-2)\n",
    "X['LON_3'] = X.groupby('trip_id')['LON'].shift(-3)\n",
    "\n",
    "# for the last two elements of each trip_id, repeat the last element\n",
    "X['SFC_1']= X.groupby('trip_id')['SFC_1'].transform(lambda x: x.ffill())\n",
    "X['SFC_2'] = X.groupby('trip_id')['SFC_2'].transform(lambda x: x.ffill())\n",
    "X['SFC_3'] = X.groupby('trip_id')['SFC_3'].transform(lambda x: x.ffill())\n",
    "X['SOG_1'] = X.groupby('trip_id')['SOG_1'].transform(lambda x: x.ffill())\n",
    "X['SOG_2'] = X.groupby('trip_id')['SOG_2'].transform(lambda x: x.ffill())\n",
    "X['SOG_3'] = X.groupby('trip_id')['SOG_3'].transform(lambda x: x.ffill())\n",
    "X['LAT_1'] = X.groupby('trip_id')['LAT_1'].transform(lambda x: x.ffill())\n",
    "X['LAT_2'] = X.groupby('trip_id')['LAT_2'].transform(lambda x: x.ffill())\n",
    "X['LAT_3'] = X.groupby('trip_id')['LAT_3'].transform(lambda x: x.ffill())\n",
    "X['LON_1'] = X.groupby('trip_id')['LON_1'].transform(lambda x: x.ffill())\n",
    "X['LON_2'] = X.groupby('trip_id')['LON_2'].transform(lambda x: x.ffill())\n",
    "X['LON_3'] = X.groupby('trip_id')['LON_3'].transform(lambda x: x.ffill())\n",
    "\n",
    "# compute accumulative fuel consumption from now to reaching the goal\n",
    "X['cf_SFC'] = X.groupby('trip_id')['SFC'].transform(lambda x: x.cumsum().iloc[-1] - x.cumsum())"
   ]
  },
  {
   "cell_type": "code",
   "execution_count": 8,
   "metadata": {},
   "outputs": [],
   "source": [
    "# order the columns\n",
    "\n",
    "# not very important features\n",
    "# 'resist_ratio', 'rain', 'snowfall', 'weekday','season',\n",
    "# repetitive features\n",
    "# 'effective_wind', 'wind_force', 'WIND_SPEED_TRUE', 'WIND_ANGLE_TRUE'\n",
    "\n",
    "X = X[[# action space [0,1,2]\n",
    "        'SPEED', 'HEADING', 'MODE', \n",
    "        # measurements \n",
    "        # [3                 ,4      ,5       ,6      ,7          ,8]\n",
    "        'ENGINE_FLOWTEMPA', 'PITCH', 'POWER', 'STW','WIND_ANGLE', 'WIND_SPEED', \n",
    "        # engineered features \n",
    "        # [9       ,10        ,11            ,12            ,13]\n",
    "        'direction','distance', 'elapsed_time', 'cumulative_SFC',\n",
    "        # disturbances \n",
    "        # [14    ,15         ,16            ,17           ,18]\n",
    "        'current', 'pressure', 'weathercode', 'is_weekday', 'effective_wind_factor',\n",
    "        # previous output \n",
    "        # [19    ,20         ,21    ,22]\n",
    "        'PSFC', 'PSOG', 'PLAT', 'PLON',\n",
    "        # output (to be removed)\n",
    "        # [23  , 24 , 25, 26]\n",
    "        'SFC', 'SOG', 'LAT', 'LON',\n",
    "        # [27, 28]\n",
    "        'EAT', 'cf_SFC',\n",
    "        # [29, 30, 31, 32, 33, 34, 35, 36, 37, 38, 39, 40]\n",
    "        'SFC_1', 'SFC_2', 'SFC_3', 'SOG_1', 'SOG_2', 'SOG_3', 'LAT_1', 'LAT_2', 'LAT_3', 'LON_1', 'LON_2', 'LON_3', \n",
    "         # to be removed\n",
    "         'datetime','start_trip','trip_id'\n",
    "       ]]"
   ]
  },
  {
   "cell_type": "code",
   "execution_count": 9,
   "metadata": {},
   "outputs": [
    {
     "data": {
      "text/plain": [
       "direction\n",
       "0    119\n",
       "1    143\n",
       "Name: direction, dtype: int64"
      ]
     },
     "execution_count": 9,
     "metadata": {},
     "output_type": "execute_result"
    }
   ],
   "source": [
    "# compute average duration of the trip for each direction\n",
    "X.groupby(['trip_id', 'direction'])['direction'].count().groupby('direction').max()\n",
    "\n"
   ]
  },
  {
   "cell_type": "code",
   "execution_count": 10,
   "metadata": {},
   "outputs": [
    {
     "data": {
      "text/plain": [
       "(Timestamp('2019-08-30 04:54:00'), Timestamp('2021-10-01 00:38:00'))"
      ]
     },
     "execution_count": 10,
     "metadata": {},
     "output_type": "execute_result"
    }
   ],
   "source": [
    "X['datetime'].min(), X['datetime'].max()"
   ]
  },
  {
   "cell_type": "code",
   "execution_count": 11,
   "metadata": {},
   "outputs": [],
   "source": [
    "# convert to two df, one for data before 2021-01-01, one for data after 2021-01-01\n",
    "\n",
    "X1 = X[X['datetime'] < '2021-05-01']\n",
    "X2 = X[X['datetime'] >= '2021-05-01']  # 5 month for test"
   ]
  },
  {
   "cell_type": "code",
   "execution_count": 12,
   "metadata": {},
   "outputs": [
    {
     "data": {
      "text/plain": [
       "Index(['SPEED', 'HEADING', 'MODE', 'ENGINE_FLOWTEMPA', 'PITCH', 'POWER', 'STW',\n",
       "       'WIND_ANGLE', 'WIND_SPEED', 'direction', 'distance', 'elapsed_time',\n",
       "       'cumulative_SFC', 'current', 'pressure', 'weathercode', 'is_weekday',\n",
       "       'effective_wind_factor', 'PSFC', 'PSOG', 'PLAT', 'PLON'],\n",
       "      dtype='object')"
      ]
     },
     "execution_count": 12,
     "metadata": {},
     "output_type": "execute_result"
    }
   ],
   "source": [
    "feature_columns = X1.columns[:22] \n",
    "feature_columns"
   ]
  },
  {
   "cell_type": "code",
   "execution_count": 13,
   "metadata": {},
   "outputs": [
    {
     "data": {
      "text/plain": [
       "Index(['SFC', 'SOG', 'LAT', 'LON', 'EAT', 'cf_SFC', 'SFC_1', 'SFC_2', 'SFC_3',\n",
       "       'SOG_1', 'SOG_2', 'SOG_3', 'LAT_1', 'LAT_2', 'LAT_3', 'LON_1', 'LON_2',\n",
       "       'LON_3'],\n",
       "      dtype='object')"
      ]
     },
     "execution_count": 13,
     "metadata": {},
     "output_type": "execute_result"
    }
   ],
   "source": [
    "output_columns = X1.columns[22:-3]\n",
    "output_columns"
   ]
  },
  {
   "cell_type": "code",
   "execution_count": 14,
   "metadata": {},
   "outputs": [
    {
     "name": "stdout",
     "output_type": "stream",
     "text": [
      "<class 'pandas.core.frame.DataFrame'>\n",
      "Index: 217412 entries, 0 to 243723\n",
      "Data columns (total 43 columns):\n",
      " #   Column                 Non-Null Count   Dtype         \n",
      "---  ------                 --------------   -----         \n",
      " 0   SPEED                  217412 non-null  float64       \n",
      " 1   HEADING                217412 non-null  float64       \n",
      " 2   MODE                   217412 non-null  float64       \n",
      " 3   ENGINE_FLOWTEMPA       217412 non-null  float64       \n",
      " 4   PITCH                  217412 non-null  float64       \n",
      " 5   POWER                  217412 non-null  float64       \n",
      " 6   STW                    217412 non-null  float64       \n",
      " 7   WIND_ANGLE             217412 non-null  float64       \n",
      " 8   WIND_SPEED             217412 non-null  float64       \n",
      " 9   direction              217412 non-null  int64         \n",
      " 10  distance               217412 non-null  float64       \n",
      " 11  elapsed_time           217412 non-null  float64       \n",
      " 12  cumulative_SFC         217412 non-null  float64       \n",
      " 13  current                217412 non-null  float64       \n",
      " 14  pressure               217412 non-null  float64       \n",
      " 15  weathercode            217412 non-null  int64         \n",
      " 16  is_weekday             217412 non-null  bool          \n",
      " 17  effective_wind_factor  217412 non-null  float64       \n",
      " 18  PSFC                   217412 non-null  float64       \n",
      " 19  PSOG                   217412 non-null  float64       \n",
      " 20  PLAT                   217412 non-null  float64       \n",
      " 21  PLON                   217412 non-null  float64       \n",
      " 22  SFC                    217412 non-null  float64       \n",
      " 23  SOG                    217412 non-null  float64       \n",
      " 24  LAT                    217412 non-null  float64       \n",
      " 25  LON                    217412 non-null  float64       \n",
      " 26  EAT                    217412 non-null  float64       \n",
      " 27  cf_SFC                 217412 non-null  float64       \n",
      " 28  SFC_1                  217412 non-null  float64       \n",
      " 29  SFC_2                  217412 non-null  float64       \n",
      " 30  SFC_3                  217412 non-null  float64       \n",
      " 31  SOG_1                  217412 non-null  float64       \n",
      " 32  SOG_2                  217412 non-null  float64       \n",
      " 33  SOG_3                  217412 non-null  float64       \n",
      " 34  LAT_1                  217412 non-null  float64       \n",
      " 35  LAT_2                  217412 non-null  float64       \n",
      " 36  LAT_3                  217412 non-null  float64       \n",
      " 37  LON_1                  217412 non-null  float64       \n",
      " 38  LON_2                  217412 non-null  float64       \n",
      " 39  LON_3                  217412 non-null  float64       \n",
      " 40  datetime               217412 non-null  datetime64[ns]\n",
      " 41  start_trip             217412 non-null  bool          \n",
      " 42  trip_id                217412 non-null  int64         \n",
      "dtypes: bool(2), datetime64[ns](1), float64(37), int64(3)\n",
      "memory usage: 70.1 MB\n"
     ]
    }
   ],
   "source": [
    "X1.info()"
   ]
  },
  {
   "cell_type": "code",
   "execution_count": 15,
   "metadata": {},
   "outputs": [
    {
     "name": "stderr",
     "output_type": "stream",
     "text": [
      "/tmp/ipykernel_676960/2092156096.py:10: SettingWithCopyWarning: \n",
      "A value is trying to be set on a copy of a slice from a DataFrame.\n",
      "Try using .loc[row_indexer,col_indexer] = value instead\n",
      "\n",
      "See the caveats in the documentation: https://pandas.pydata.org/pandas-docs/stable/user_guide/indexing.html#returning-a-view-versus-a-copy\n",
      "  X1[X1.columns[:-3]] = X1_scaled\n",
      "/tmp/ipykernel_676960/2092156096.py:11: SettingWithCopyWarning: \n",
      "A value is trying to be set on a copy of a slice from a DataFrame.\n",
      "Try using .loc[row_indexer,col_indexer] = value instead\n",
      "\n",
      "See the caveats in the documentation: https://pandas.pydata.org/pandas-docs/stable/user_guide/indexing.html#returning-a-view-versus-a-copy\n",
      "  X2[X2.columns[:-3]] = X2_scaled\n"
     ]
    }
   ],
   "source": [
    "# standardize the data with min-max scaler\n",
    "scaler = MinMaxScaler()\n",
    "# create augmented X1, X2 dataframe\n",
    "df_aug = pd.concat([X1[X1.columns[:-3]], X2[X2.columns[:-3]]], ignore_index=True)\n",
    "scaler.fit(df_aug)\n",
    "X1_scaled = scaler.transform(X1[X1.columns[:-3]])\n",
    "X2_scaled = scaler.transform(X2[X2.columns[:-3]])\n",
    "\n",
    "# replace the scaled one with the original and make the last three columns unchanged\n",
    "X1[X1.columns[:-3]] = X1_scaled\n",
    "X2[X2.columns[:-3]] = X2_scaled\n",
    "\n"
   ]
  },
  {
   "cell_type": "code",
   "execution_count": 16,
   "metadata": {},
   "outputs": [],
   "source": [
    "# transform to numpy array\n",
    "X1_start_trip = X1[X1['start_trip'] == True].iloc[:, :-3]\n",
    "X2_start_trip = X2[X2['start_trip'] == True].iloc[:, :-3]\n",
    "\n",
    "X1_start_trip = scaler.transform(X1_start_trip)\n",
    "X2_start_trip = scaler.transform(X2_start_trip)\n",
    "\n",
    "start_trip = {'X1': X1_start_trip, 'X2': X2_start_trip}\n",
    "\n",
    "# save to pickle start_trip\n",
    "with open('../data/VesselSimulator/start_trip.pkl', 'wb') as f:\n",
    "    pickle.dump(start_trip, f)\n",
    "\n",
    "scaler = {'scaler': scaler}\n",
    "# save the scaler_X and scaler_Y\n",
    "with open('../data/VesselSimulator/scaler.pkl', 'wb') as f:\n",
    "    pickle.dump(scaler, f)\n",
    "\n",
    "X1 = X1.drop(['datetime', 'start_trip'], axis=1)\n",
    "X2 = X2.drop(['datetime', 'start_trip'], axis=1)\n",
    "\n"
   ]
  },
  {
   "cell_type": "code",
   "execution_count": 17,
   "metadata": {},
   "outputs": [],
   "source": [
    "def create_dataset(df, feature_columns, output_columns):\n",
    "    \"\"\"\n",
    "    Converts a DataFrame into a numpy array suitable for sequential models with padding.\n",
    "    \n",
    "    Args:\n",
    "        df (pd.DataFrame): Input DataFrame with trip data\n",
    "        feature_columns (list): List of feature column names.\n",
    "        output_columns (list): List of output column names.\n",
    "    \n",
    "    Returns:\n",
    "        np.ndarray: A numpy array of shape (num_trips, max_sequence_length, num_features).\n",
    "        np.ndarray: A numpy array of (num_trips, max_sequence_length, num_outputs).\n",
    "    \"\"\"\n",
    "    # Group by trip ID\n",
    "    grouped = df.groupby(\"trip_id\")\n",
    "    \n",
    "    # Determine max sequence length\n",
    "    max_sequence_length = grouped.size().max()\n",
    "    num_features = len(feature_columns)\n",
    "    num_outputs = len(output_columns)\n",
    "    \n",
    "    # Prepare array: num_trips x max_sequence_length x (features + outputs)\n",
    "    num_trips = len(grouped)\n",
    "    inp = np.zeros((num_trips, max_sequence_length, num_features+1)) # +1 for done\n",
    "    out = np.zeros((num_trips, max_sequence_length, num_outputs))\n",
    "    \n",
    "    # Populate the numpy array\n",
    "    # create a feature as done = 1 when the sequence is finished otherwise 0\n",
    "    # pad with zeros for the rest of the sequence\n",
    "    for i, (trip_id, group) in enumerate(grouped):\n",
    "        inp[i, :len(group),1:] = group[feature_columns].values\n",
    "        out[i, :len(group), :] = group[output_columns].values\n",
    "        inp[i, len(group):, 0] = 1  # done\n",
    "\n",
    "    \n",
    "    return inp, out"
   ]
  },
  {
   "cell_type": "code",
   "execution_count": 18,
   "metadata": {},
   "outputs": [],
   "source": [
    "inp, out = create_dataset(X1, feature_columns, output_columns)"
   ]
  },
  {
   "cell_type": "code",
   "execution_count": 19,
   "metadata": {},
   "outputs": [
    {
     "data": {
      "text/plain": [
       "(2100, 143, 23)"
      ]
     },
     "execution_count": 19,
     "metadata": {},
     "output_type": "execute_result"
    }
   ],
   "source": [
    "inp.shape"
   ]
  },
  {
   "cell_type": "code",
   "execution_count": 20,
   "metadata": {},
   "outputs": [
    {
     "data": {
      "text/plain": [
       "(2100, 143, 18)"
      ]
     },
     "execution_count": 20,
     "metadata": {},
     "output_type": "execute_result"
    }
   ],
   "source": [
    "out.shape"
   ]
  },
  {
   "cell_type": "code",
   "execution_count": 21,
   "metadata": {},
   "outputs": [],
   "source": [
    "inpt, outt = create_dataset(X2, feature_columns, output_columns)"
   ]
  },
  {
   "cell_type": "code",
   "execution_count": 22,
   "metadata": {},
   "outputs": [],
   "source": [
    "# save as pickle\n",
    "with open('../data/VesselSimulator/data_train.pkl', 'wb') as f:\n",
    "    pickle.dump({'train': {'inp': inp, 'out': out}, 'test': {'inp': inpt, 'out': outt}}, f)"
   ]
  }
 ],
 "metadata": {
  "kernelspec": {
   "display_name": ".venv",
   "language": "python",
   "name": "python3"
  },
  "language_info": {
   "codemirror_mode": {
    "name": "ipython",
    "version": 3
   },
   "file_extension": ".py",
   "mimetype": "text/x-python",
   "name": "python",
   "nbconvert_exporter": "python",
   "pygments_lexer": "ipython3",
   "version": "3.11.9"
  }
 },
 "nbformat": 4,
 "nbformat_minor": 2
}
